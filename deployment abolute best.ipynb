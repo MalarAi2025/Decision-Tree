{
 "cells": [
  {
   "cell_type": "code",
   "execution_count": 5,
   "id": "fb023623-4dc5-4004-853a-2f3d770de1aa",
   "metadata": {},
   "outputs": [],
   "source": [
    "import pickle\n",
    "#giving file name for finalised model \n",
    "filename=\"decisionTree_final.sav\""
   ]
  },
  {
   "cell_type": "code",
   "execution_count": 6,
   "id": "0ba1e588-5759-4d76-99a6-5c20b596dbd0",
   "metadata": {},
   "outputs": [],
   "source": [
    "loaded_model= pickle.load(open(\"decisionTree_final.sav\",\"rb\"))\n"
   ]
  },
  {
   "cell_type": "code",
   "execution_count": 7,
   "id": "7ed8632d-3427-4cda-8708-e12cbb5febe7",
   "metadata": {},
   "outputs": [
    {
     "name": "stderr",
     "output_type": "stream",
     "text": [
      "C:\\anaconda 3\\Lib\\site-packages\\sklearn\\base.py:493: UserWarning: X does not have valid feature names, but DecisionTreeRegressor was fitted with feature names\n",
      "  warnings.warn(\n"
     ]
    }
   ],
   "source": [
    "result=loaded_model.predict([[923,2894,3456,1,0]])"
   ]
  },
  {
   "cell_type": "code",
   "execution_count": 8,
   "id": "a73486cf-6288-427b-8a45-4e2f0d125e29",
   "metadata": {},
   "outputs": [
    {
     "data": {
      "text/plain": [
       "array([49490.75])"
      ]
     },
     "execution_count": 8,
     "metadata": {},
     "output_type": "execute_result"
    }
   ],
   "source": [
    "result"
   ]
  },
  {
   "cell_type": "code",
   "execution_count": null,
   "id": "c07a4089-ab46-4206-9ae2-9af987eb214e",
   "metadata": {},
   "outputs": [],
   "source": []
  }
 ],
 "metadata": {
  "kernelspec": {
   "display_name": "Python 3 (ipykernel)",
   "language": "python",
   "name": "python3"
  },
  "language_info": {
   "codemirror_mode": {
    "name": "ipython",
    "version": 3
   },
   "file_extension": ".py",
   "mimetype": "text/x-python",
   "name": "python",
   "nbconvert_exporter": "python",
   "pygments_lexer": "ipython3",
   "version": "3.12.7"
  }
 },
 "nbformat": 4,
 "nbformat_minor": 5
}
