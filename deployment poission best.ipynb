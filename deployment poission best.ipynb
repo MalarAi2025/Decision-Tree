{
 "cells": [
  {
   "cell_type": "code",
   "execution_count": 1,
   "id": "419c0c42-3875-455f-aa40-b5d7e1f647f5",
   "metadata": {},
   "outputs": [],
   "source": [
    "import pickle\n",
    "#giving file name for finalised model \n",
    "filename=\"decisionTree_final.sav\""
   ]
  },
  {
   "cell_type": "code",
   "execution_count": 2,
   "id": "14d991ce-956f-4c90-9eb6-02b4afa9ebfc",
   "metadata": {},
   "outputs": [],
   "source": [
    "loaded_model=pickle.load(open(\"decisionTree_final.sav\",\"rb\"))"
   ]
  },
  {
   "cell_type": "code",
   "execution_count": 3,
   "id": "6007dc87-cbd2-4c5e-a773-fdad093e87c7",
   "metadata": {},
   "outputs": [
    {
     "name": "stdin",
     "output_type": "stream",
     "text": [
      "R&D: 980\n",
      "Admin: 678\n",
      "Marketing: 432\n",
      "State_flo 0 or 1: 0\n",
      "State_new 0 or 1: 1\n"
     ]
    }
   ],
   "source": [
    "rd_input=float(input(\"R&D:\"))\n",
    "admin_input=float(input(\"Admin:\"))\n",
    "marketing_input=float(input(\"Marketing:\"))\n",
    "flo_input=int(input(\"State_flo 0 or 1:\"))\n",
    "new_input=int(input(\"State_new 0 or 1:\"))"
   ]
  },
  {
   "cell_type": "code",
   "execution_count": 4,
   "id": "b2cd7b53-b6d6-4daa-90a0-f2fb096c112c",
   "metadata": {},
   "outputs": [
    {
     "name": "stderr",
     "output_type": "stream",
     "text": [
      "C:\\anaconda 3\\Lib\\site-packages\\sklearn\\base.py:493: UserWarning: X does not have valid feature names, but DecisionTreeRegressor was fitted with feature names\n",
      "  warnings.warn(\n"
     ]
    }
   ],
   "source": [
    "result=loaded_model.predict([[980,678,432,1,0]])"
   ]
  },
  {
   "cell_type": "code",
   "execution_count": 5,
   "id": "0aef9160-626e-4161-9889-25d232ef7599",
   "metadata": {},
   "outputs": [
    {
     "data": {
      "text/plain": [
       "array([49490.75])"
      ]
     },
     "execution_count": 5,
     "metadata": {},
     "output_type": "execute_result"
    }
   ],
   "source": [
    "result"
   ]
  },
  {
   "cell_type": "code",
   "execution_count": null,
   "id": "b34ebb47-0a76-462c-b11f-583f64dbe5f5",
   "metadata": {},
   "outputs": [],
   "source": []
  }
 ],
 "metadata": {
  "kernelspec": {
   "display_name": "Python 3 (ipykernel)",
   "language": "python",
   "name": "python3"
  },
  "language_info": {
   "codemirror_mode": {
    "name": "ipython",
    "version": 3
   },
   "file_extension": ".py",
   "mimetype": "text/x-python",
   "name": "python",
   "nbconvert_exporter": "python",
   "pygments_lexer": "ipython3",
   "version": "3.12.7"
  }
 },
 "nbformat": 4,
 "nbformat_minor": 5
}
